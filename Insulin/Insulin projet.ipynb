{
 "cells": [
  {
   "cell_type": "markdown",
   "id": "19866d49-a479-4a64-afee-b97e20421ab9",
   "metadata": {},
   "source": [
    "# INSULIN\n",
    "-------------\n",
    "## Gene: INS\n",
    "  __Insulin is a protein hormone produced in the _islets of Langerhans_ located in the *beta cells* of the pancreas.__\n",
    "\n",
    "It decreases blood glucose concentration, increases cell permeability to amino acids, fatty acids, and monosaccharides, and accelerates glycogen synthesis, glycolysis, and the pentose phosphate pathway."
   ]
  },
  {
   "cell_type": "markdown",
   "id": "344c6897-fcf9-4022-a706-3df7e8e95fc6",
   "metadata": {},
   "source": [
    "#### Functions of Insulin\n",
    "    \n",
    "|Molecular Function|\n",
    "|----------|\n",
    "|DNA binding|\n",
    "|DNA binding transcription factor activity|\n",
    "|RNA binding|\n",
    "|Catalytic activity|\n",
    "|Signaling receptor binding|\n",
    "|Cytoskeleton protein binding|\n",
    "|Transcription factor binding|\n",
    "|Carbohydrate binding|\n",
    "|Small molecule binding|\n",
    "|Enzyme regulator activity|\n",
    "\n",
    "\n",
    "|Biological Process|\n",
    "|-------------|\n",
    "|Immune system process|\n",
    "|Lipd metabolic process|\n",
    "|catabolic process|\n",
    "|DNA metabolic process|\n",
    "|Cell population poliferation|\n",
    "|Signaling|\n",
    "|Developmental process|\n",
    "|Programmed cell death|\n",
    "|RNA metabolic process|\n",
    "|Protein metabolic process|\n",
    "|Homeostatic process|\n",
    "|Nervous system process|"
   ]
  },
  {
   "cell_type": "code",
   "execution_count": 21,
   "id": "944f10c1-130b-407d-8b50-9115dcc1c34c",
   "metadata": {},
   "outputs": [
    {
     "name": "stdout",
     "output_type": "stream",
     "text": [
      "('DNA binding', 'DNA binding transcription factor activity', 'RNA binding', 'Catalytic activity', 'Signaling receptor binding', 'Cytoskeleton protein binding', 'Transcription factor binding', 'Carbohydrate binding', 'Small molecule binding', 'Enzyme regulator activity')\n"
     ]
    }
   ],
   "source": [
    "# let's create a variable ~Molecular function~\n",
    "Molecular_function=(\"DNA binding\",\"DNA binding transcription factor activity\",\"RNA binding\",\"Catalytic activity\",\"Signaling receptor binding\",\"Cytoskeleton protein binding\",\"Transcription factor binding\",\"Carbohydrate binding\",\"Small molecule binding\",\"Enzyme regulator activity\")\n",
    "print(Molecular_function)"
   ]
  },
  {
   "cell_type": "code",
   "execution_count": 22,
   "id": "96d195db-b182-4528-ac45-2e60418775bc",
   "metadata": {},
   "outputs": [
    {
     "data": {
      "text/plain": [
       "'Catalytic activity'"
      ]
     },
     "execution_count": 22,
     "metadata": {},
     "output_type": "execute_result"
    }
   ],
   "source": [
    "Molecular_function[3]\n",
    "#to fetch out the a string"
   ]
  },
  {
   "cell_type": "code",
   "execution_count": 23,
   "id": "78e8fc04-7f12-4b83-a047-e0945bd8f0b9",
   "metadata": {},
   "outputs": [
    {
     "data": {
      "text/plain": [
       "('Catalytic activity',\n",
       " 'Signaling receptor binding',\n",
       " 'Cytoskeleton protein binding',\n",
       " 'Transcription factor binding',\n",
       " 'Carbohydrate binding')"
      ]
     },
     "execution_count": 23,
     "metadata": {},
     "output_type": "execute_result"
    }
   ],
   "source": [
    "#string slicing--\n",
    "Molecular_function[3:8]\n",
    "# 3:8 print string 4,5,6,7,8"
   ]
  },
  {
   "cell_type": "code",
   "execution_count": 24,
   "id": "ebaf8d02-70be-4031-aa1f-7a859fb1c4f3",
   "metadata": {},
   "outputs": [
    {
     "data": {
      "text/plain": [
       "'carbohydrate binding'"
      ]
     },
     "execution_count": 24,
     "metadata": {},
     "output_type": "execute_result"
    }
   ],
   "source": [
    "#lower() method converts uppercase string to lowercase\n",
    "'CARBOHYDRATE BINDING'.lower()"
   ]
  },
  {
   "cell_type": "code",
   "execution_count": 25,
   "id": "9b0475ae-380f-4818-8167-62bc741c3acf",
   "metadata": {},
   "outputs": [],
   "source": [
    "import re"
   ]
  },
  {
   "cell_type": "code",
   "execution_count": 27,
   "id": "e5701b76-e362-409c-b8d3-50426ea4c987",
   "metadata": {},
   "outputs": [],
   "source": [
    "#lets perform some regular expression with the strings./ first import re, which was done above\n",
    "#I am going to replace 'Catalytic'  with 'metal ion binding'\n",
    "A_Molecular_function='Catalytic activity'\n",
    "pattern=r'Catalytic'\n",
    "replace='metal ion binding'\n",
    "new_molecular_function=re.sub(pattern,replace,A_Molecular_function)"
   ]
  },
  {
   "cell_type": "code",
   "execution_count": 28,
   "id": "d6896c03-45a6-42d7-82f6-3f81f9c2d053",
   "metadata": {},
   "outputs": [
    {
     "name": "stdout",
     "output_type": "stream",
     "text": [
      "metal ion binding activity\n"
     ]
    }
   ],
   "source": [
    "print(new_molecular_function)"
   ]
  },
  {
   "cell_type": "code",
   "execution_count": 30,
   "id": "789f5cd7-474b-477f-9bfb-d099781935c1",
   "metadata": {},
   "outputs": [
    {
     "data": {
      "text/plain": [
       "'Enzyme regulator activity'"
      ]
     },
     "execution_count": 30,
     "metadata": {},
     "output_type": "execute_result"
    }
   ],
   "source": [
    "#In search, the index -1 denotes the final position\n",
    "Molecular_function[-1]"
   ]
  },
  {
   "cell_type": "code",
   "execution_count": 31,
   "id": "e0e8af12-ca7f-4a79-add4-78511b68bf61",
   "metadata": {},
   "outputs": [
    {
     "name": "stdout",
     "output_type": "stream",
     "text": [
      "('DNA binding', 'DNA binding transcription factor activity', 'RNA binding', 'Catalytic activity', 'Signaling receptor binding', 'Cytoskeleton protein binding', 'Transcription factor binding', 'Carbohydrate binding', 'Small molecule binding', 'Enzyme regulator activity')\n"
     ]
    }
   ],
   "source": [
    "print(Molecular_function)"
   ]
  },
  {
   "cell_type": "code",
   "execution_count": 32,
   "id": "51025b3e-a7c0-4300-8fe0-1ec004ccb6a6",
   "metadata": {},
   "outputs": [
    {
     "data": {
      "text/plain": [
       "'Catalytic activityCatalytic activityCatalytic activity'"
      ]
     },
     "execution_count": 32,
     "metadata": {},
     "output_type": "execute_result"
    }
   ],
   "source": [
    "#print a string three times\n",
    "\"Catalytic activity\"*3"
   ]
  },
  {
   "cell_type": "code",
   "execution_count": 33,
   "id": "a3aa56a3-0082-4e01-8f17-76a1e15c2401",
   "metadata": {},
   "outputs": [
    {
     "name": "stdout",
     "output_type": "stream",
     "text": [
      "41\n"
     ]
    }
   ],
   "source": [
    "#find the length of string index 1\n",
    "print(len(\"DNA binding transcription factor activity\"))"
   ]
  },
  {
   "cell_type": "code",
   "execution_count": 34,
   "id": "5d352281-76de-4d3a-9150-04e43412045f",
   "metadata": {},
   "outputs": [
    {
     "data": {
      "text/plain": [
       "('DNA binding',\n",
       " 'RNA binding',\n",
       " 'Signaling receptor binding',\n",
       " 'Transcription factor binding',\n",
       " 'Small molecule binding')"
      ]
     },
     "execution_count": 34,
     "metadata": {},
     "output_type": "execute_result"
    }
   ],
   "source": [
    "Molecular_function[0:10:2]\n",
    "# stride activity. Here means print every 2nd string from 0 to 10"
   ]
  },
  {
   "cell_type": "markdown",
   "id": "5c41b058-ea2a-4972-b270-5650b89f3f16",
   "metadata": {},
   "source": [
    "### Disease and variants\n",
    "#### Hyperproinsulinemia (HPRI)\n",
    "----------\n",
    "*Some variants causing HPRI affect the gene INS.* Let's take a look at the variants\n",
    "|VariantID|Position|Change|Desription|\n",
    "|-------|------|-----|-------|\n",
    "|VAR_003971|34|H>D|A probably deleterious missense mutation--Amino acid change from histidine to aspartic acid|\n",
    "|VAR_003972|48|F>S|Amino acid change from phenylalanine to serine at position 48|\n",
    "|VAR_003974|89|R>H|Missense mutation, probably deleterious, from arginine to histidine, position 89|\n",
    "|VAR_003975|89|R>L|Missense mutation, amino acid change arginine to leucine| "
   ]
  },
  {
   "cell_type": "code",
   "execution_count": 3,
   "id": "bbb84b2a-4b08-4719-b5b7-8606683ddab1",
   "metadata": {},
   "outputs": [],
   "source": [
    "#Create an empty dictionary with the disease, Hyperproinsulinemia(HPRI)\n",
    "HPRI={}\n",
    "#Now, insert variant1 in HPRI\n"
   ]
  },
  {
   "cell_type": "code",
   "execution_count": 4,
   "id": "2910f1f2-420d-4ae1-aa66-593351494485",
   "metadata": {},
   "outputs": [],
   "source": [
    "#create dictionaries with the variants causing diseases using each disease as a dictionary\n",
    "# let's turn each variant into a variable\n",
    "Variant1_name_HPRI=\"VAR_003971\"\n",
    "Variant1_position_HPRI=34\n",
    "Variant1_change_HPRI=\"H>D\"\n",
    "Variant1_description_HPRI=\"A probably deleterious missense mutation--Amino acid change from histidine to aspartic acid\""
   ]
  },
  {
   "cell_type": "code",
   "execution_count": 5,
   "id": "b9ae3304-a706-43a8-98cc-f057b64a9388",
   "metadata": {},
   "outputs": [],
   "source": [
    "HPRI[\"Variant 1 HPRI\"]=Variant1_name_HPRI\n",
    "HPRI[\"Variant 1 position HPRI\"]=Variant1_position_HPRI\n",
    "HPRI[\"Variant 1 position change HPRI\"]=Variant1_change_HPRI\n",
    "HPRI[\"Variant 1 position change description HPRI\"]=Variant1_description_HPRI"
   ]
  },
  {
   "cell_type": "code",
   "execution_count": 6,
   "id": "6f8e1d85-cf5d-4d34-aec7-5aa1c732b9db",
   "metadata": {},
   "outputs": [],
   "source": [
    "#do the same with other variants of HPRI\n",
    "#turn the second variant role into variable\n",
    "Variant2_name_HPRI=\"VAR_003972\"\n",
    "Variant2_position_HPRI=48\n",
    "Variant2_change_HPRI=\"F>S\"\n",
    "Variant2_description_HPRI=\"Amino acid change from phenylalanine to serine at position 48\""
   ]
  },
  {
   "cell_type": "code",
   "execution_count": 7,
   "id": "6f4ec74e-18b5-4bb3-b021-1348d31d971c",
   "metadata": {},
   "outputs": [],
   "source": [
    "#turn the variant 3 role into variable\n",
    "Variant3_name_HPRI=\"VAR_003974\"\n",
    "Variant3_position_HPRI=89\n",
    "Variant3_change_HPRI=\"R>H\"\n",
    "Variant3_description_HPRI=\"Missense mutation, probably deleterious, from arginine to histidine, position 89\""
   ]
  },
  {
   "cell_type": "code",
   "execution_count": 8,
   "id": "788a7d2e-c1e4-4492-8a86-e5d695be3324",
   "metadata": {},
   "outputs": [],
   "source": [
    "Variant4_name_HPRI=\"VAR_003975\"\n",
    "Variant4_position_HPRI=89\n",
    "Variant4_change_HPRI=\"R>L\"\n",
    "Variant4_description_HPRI=\"Missense mutation, amino acid change arginine to leucine\""
   ]
  },
  {
   "cell_type": "code",
   "execution_count": 9,
   "id": "6d6528ac-e827-4fe6-b140-52d5169c54c1",
   "metadata": {},
   "outputs": [],
   "source": [
    "# Now, insert the new variants into the dictionary HPRI\n",
    "HPRI[\"Variant 2 HPRI\"]=Variant2_name_HPRI\n",
    "HPRI[\"Variant 2 position HPRI\"]=Variant2_position_HPRI\n",
    "HPRI[\"Variant 2 position change HPRI\"]=Variant2_change_HPRI\n",
    "HPRI[\"Variant 2 position change description HPRI\"]=Variant2_description_HPRI"
   ]
  },
  {
   "cell_type": "code",
   "execution_count": 10,
   "id": "0c27cf82-ab6c-45c9-854c-be4e09e5cffc",
   "metadata": {},
   "outputs": [],
   "source": [
    "HPRI[\"Variant 3 HPRI\"]=Variant3_name_HPRI\n",
    "HPRI[\"Variant 3 position HPRI\"]=Variant3_position_HPRI\n",
    "HPRI[\"Variant 3 position change HPRI\"]=Variant3_change_HPRI\n",
    "HPRI[\"Variant 3 position change description HPRI\"]=Variant3_description_HPRI"
   ]
  },
  {
   "cell_type": "code",
   "execution_count": 11,
   "id": "fab0adc5-f3a1-4cab-9749-09e00a8cb323",
   "metadata": {},
   "outputs": [],
   "source": [
    "HPRI[\"Variant 4 HPRI\"]=Variant4_name_HPRI\n",
    "HPRI[\"Variant 4 position HPRI\"]=Variant4_position_HPRI\n",
    "HPRI[\"Variant 4 position change HPRI\"]=Variant4_change_HPRI\n",
    "HPRI[\"Variant 4 position change description HPRI\"]=Variant4_description_HPRI"
   ]
  },
  {
   "cell_type": "code",
   "execution_count": 12,
   "id": "34144834-90df-4c07-ae19-9fa2e7918560",
   "metadata": {},
   "outputs": [
    {
     "name": "stdout",
     "output_type": "stream",
     "text": [
      "{'Variant 1 HPRI': 'VAR_003971', 'Variant 1 position HPRI': 34, 'Variant 1 position change HPRI': 'H>D', 'Variant 1 position change description HPRI': 'A probably deleterious missense mutation--Amino acid change from histidine to aspartic acid', 'Variant 2 HPRI': 'VAR_003972', 'Variant 2 position HPRI': 48, 'Variant 2 position change HPRI': 'F>S', 'Variant 2 position change description HPRI': 'Amino acid change from phenylalanine to serine at position 48', 'Variant 3 HPRI': 'VAR_003974', 'Variant 3 position HPRI': 89, 'Variant 3 position change HPRI': 'R>H', 'Variant 3 position change description HPRI': 'Missense mutation, probably deleterious, from arginine to histidine, position 89', 'Variant 4 HPRI': 'VAR_003975', 'Variant 4 position HPRI': 89, 'Variant 4 position change HPRI': 'R>L', 'Variant 4 position change description HPRI': 'Missense mutation, amino acid change arginine to leucine'}\n"
     ]
    }
   ],
   "source": [
    "print(HPRI)"
   ]
  },
  {
   "cell_type": "code",
   "execution_count": 13,
   "id": "534b31f6-f582-424a-9e8d-aac90ea20bdf",
   "metadata": {},
   "outputs": [
    {
     "data": {
      "text/plain": [
       "dict_keys(['Variant 1 HPRI', 'Variant 1 position HPRI', 'Variant 1 position change HPRI', 'Variant 1 position change description HPRI', 'Variant 2 HPRI', 'Variant 2 position HPRI', 'Variant 2 position change HPRI', 'Variant 2 position change description HPRI', 'Variant 3 HPRI', 'Variant 3 position HPRI', 'Variant 3 position change HPRI', 'Variant 3 position change description HPRI', 'Variant 4 HPRI', 'Variant 4 position HPRI', 'Variant 4 position change HPRI', 'Variant 4 position change description HPRI'])"
      ]
     },
     "execution_count": 13,
     "metadata": {},
     "output_type": "execute_result"
    }
   ],
   "source": [
    "# Fetch out the keys and values in the dictionary, HPRI using the keys() and values() functions\n",
    "HPRI.keys()"
   ]
  },
  {
   "cell_type": "code",
   "execution_count": 14,
   "id": "18847495-d458-4645-b87a-4bcbb45cd6d7",
   "metadata": {},
   "outputs": [
    {
     "data": {
      "text/plain": [
       "dict_values(['VAR_003971', 34, 'H>D', 'A probably deleterious missense mutation--Amino acid change from histidine to aspartic acid', 'VAR_003972', 48, 'F>S', 'Amino acid change from phenylalanine to serine at position 48', 'VAR_003974', 89, 'R>H', 'Missense mutation, probably deleterious, from arginine to histidine, position 89', 'VAR_003975', 89, 'R>L', 'Missense mutation, amino acid change arginine to leucine'])"
      ]
     },
     "execution_count": 14,
     "metadata": {},
     "output_type": "execute_result"
    }
   ],
   "source": [
    "HPRI.values()"
   ]
  },
  {
   "cell_type": "code",
   "execution_count": 15,
   "id": "7c240ddb-7828-4316-992c-0b9a9dce6d4c",
   "metadata": {},
   "outputs": [
    {
     "data": {
      "text/plain": [
       "'H>D'"
      ]
     },
     "execution_count": 15,
     "metadata": {},
     "output_type": "execute_result"
    }
   ],
   "source": [
    "# search out some keys info from the dictionary\n",
    "HPRI['Variant 1 position change HPRI']"
   ]
  },
  {
   "cell_type": "code",
   "execution_count": 16,
   "id": "7cd3e390-a913-4062-9289-a687421d1fd0",
   "metadata": {},
   "outputs": [
    {
     "data": {
      "text/plain": [
       "True"
      ]
     },
     "execution_count": 16,
     "metadata": {},
     "output_type": "execute_result"
    }
   ],
   "source": [
    "\"Variant 2 position change description HPRI\" in HPRI"
   ]
  },
  {
   "cell_type": "code",
   "execution_count": 17,
   "id": "260deb3d-9a7f-4109-8240-9350a3cf0156",
   "metadata": {},
   "outputs": [
    {
     "data": {
      "text/plain": [
       "89"
      ]
     },
     "execution_count": 17,
     "metadata": {},
     "output_type": "execute_result"
    }
   ],
   "source": [
    "# What chromosomal position would you find the fourth variant causing HPRI\n",
    "HPRI[\"Variant 4 position HPRI\"]"
   ]
  },
  {
   "cell_type": "markdown",
   "id": "30d66e5f-d5f1-46c0-8027-5eb75b6019ce",
   "metadata": {},
   "source": [
    "#### Diabetes mellitus, permanent neonatal, 4(PNDM4)\n",
    "----------------\n",
    "*Some variants affect the INS gene resulting into this disease. It is characterized by the onset of persistent hyperglycemia within the first six months of life. Some clinical symtoms with PNDM4 include hyperglycemia, glycosuria, osmotic polyuria, severe dehydration, and growth retardation.*\n",
    "|VariantID|Position|Change|Desription|\n",
    "|-------|------|-----|-------|\n",
    "|VAR_063723|24|A>D|Misssense mutation, alanine to aspartic acid|\n",
    "|VAR_063724|29|H>D|Missense mutation, Histidine to aspartic acid|\n",
    "|VAR_063725|32|G>R|Missense mutation, glycine to arginine|\n",
    "|VAR_063726|32|G>S|glycine to serine|\n",
    "|VAR_063727|35|L>P|leucine to proline leading to probably deleterious missense mutation|\n",
    "#We still have more variants that affect INS leading to PNDM4"
   ]
  },
  {
   "cell_type": "code",
   "execution_count": null,
   "id": "1ade4501-ed19-41eb-98f6-ec2fc867cedb",
   "metadata": {},
   "outputs": [],
   "source": [
    "# create an empty dictionary named PNDM4 (Diabetes mellitus, permanent neonatal"
   ]
  },
  {
   "cell_type": "code",
   "execution_count": 36,
   "id": "36d3276d-b557-4d06-be12-7cdc5f8895d2",
   "metadata": {},
   "outputs": [],
   "source": [
    "PNDM4={}"
   ]
  },
  {
   "cell_type": "code",
   "execution_count": 45,
   "id": "041052b7-20e2-446b-ab82-208b7743a026",
   "metadata": {},
   "outputs": [],
   "source": [
    "#turn the five variants causing PNDM4 to variable\n",
    "Variant1_name_PNDM4=\"VAR_063723\"\n",
    "Variant1_position_PNDM4=24\n",
    "Variant1_change_PNDM4=\"A>D\"\n",
    "Variant1_description_PNDM4=\"Missense mutation, alanine to aspartic acid\""
   ]
  },
  {
   "cell_type": "code",
   "execution_count": 46,
   "id": "4b5f2f86-44a3-45f2-99a4-31621d9b7d9e",
   "metadata": {},
   "outputs": [],
   "source": [
    "Variant2_name_PNDM4=\"VAR_063724\"\n",
    "Variant2_position_PNDM4=29\n",
    "Variant2_change_PNDM4=\"H>D\"\n",
    "Variant2_description_PNDM4=\"Missense mutation, Histidine to aspartic acid\""
   ]
  },
  {
   "cell_type": "code",
   "execution_count": 47,
   "id": "4c0ff5b0-3ac1-4536-a426-e5abe450ebb4",
   "metadata": {},
   "outputs": [],
   "source": [
    "Variant3_name_PNDM4=\"VAR_063725\"\n",
    "Variant3_position_PNDM4=32\n",
    "Variant3_change_PNDM4=\"G>R\"\n",
    "Variant3_description_PNDM4=\"Missense mutation, glycine to arginine\""
   ]
  },
  {
   "cell_type": "code",
   "execution_count": 48,
   "id": "f63e2020-f4de-4f41-8aee-9d1a3cfff79c",
   "metadata": {},
   "outputs": [],
   "source": [
    "Variant4_name_PNDM4=\"VAR_063726\"\n",
    "Variant4_position_PNDM4=32\n",
    "Variant4_change_PNDM4=\"G>S\"\n",
    "Variant4_description_PNDM4=\"Missense mutation, glycine to serine\""
   ]
  },
  {
   "cell_type": "code",
   "execution_count": 49,
   "id": "919286c4-5b38-4ff7-8925-d365ec878755",
   "metadata": {},
   "outputs": [],
   "source": [
    "Variant5_name_PNDM4=\"VAR_063727\"\n",
    "Variant5_position_PNDM4=35\n",
    "Variant5_change_PNDM4=\"L>P\"\n",
    "Variant5_description_PNDM4=\"leucine to proline leading to probably deleterious missense mutation\""
   ]
  },
  {
   "cell_type": "code",
   "execution_count": 50,
   "id": "d855bd8a-4bfa-459e-8577-b4ca6a5a24ce",
   "metadata": {},
   "outputs": [],
   "source": [
    "PNDM4[\"Variant 1 PNDM4\"]=Variant1_name_PNDM4\n",
    "PNDM4[\"Variant 1 position PNDM4\"]=Variant1_position_PNDM4\n",
    "PNDM4[\"Variant 1 position change PNDM4\"]=Variant1_change_PNDM4\n",
    "PNDM4[\"Variant 1 position change description PNDM4\"]=Variant1_description_PNDM4"
   ]
  },
  {
   "cell_type": "code",
   "execution_count": 51,
   "id": "ba61892e-d706-43c2-8743-6329b794175b",
   "metadata": {},
   "outputs": [],
   "source": [
    "PNDM4[\"Variant 2 PNDM4\"]=Variant2_name_PNDM4\n",
    "PNDM4[\"Variant 2 position PNDM4\"]=Variant2_position_PNDM4\n",
    "PNDM4[\"Variant 2 position change PNDM4\"]=Variant2_change_PNDM4\n",
    "PNDM4[\"Variant 2 position change description PNDM4\"]=Variant2_description_PNDM4"
   ]
  },
  {
   "cell_type": "code",
   "execution_count": 53,
   "id": "8f28cb95-801e-42c2-87b2-961b775b21e8",
   "metadata": {},
   "outputs": [],
   "source": [
    "PNDM4[\"Variant 3 PNDM4\"]=Variant3_name_PNDM4\n",
    "PNDM4[\"Variant 3 position PNDM4\"]=Variant3_position_PNDM4\n",
    "PNDM4[\"Variant 3 position change PNDM4\"]=Variant3_change_PNDM4\n",
    "PNDM4[\"Variant 3 position change description PNDM4\"]=Variant3_description_PNDM4"
   ]
  },
  {
   "cell_type": "code",
   "execution_count": 54,
   "id": "603a55ec-e25c-4e1c-919f-a42752d6a3d0",
   "metadata": {},
   "outputs": [],
   "source": [
    "PNDM4[\"Variant 4 PNDM4\"]=Variant4_name_PNDM4\n",
    "PNDM4[\"Variant 4 position PNDM4\"]=Variant4_position_PNDM4\n",
    "PNDM4[\"Variant 4 position change PNDM4\"]=Variant4_change_PNDM4\n",
    "PNDM4[\"Variant 4 position change description PNDM4\"]=Variant4_description_PNDM4"
   ]
  },
  {
   "cell_type": "code",
   "execution_count": 55,
   "id": "e57f01aa-bcc6-4cd1-8678-cd1f12291292",
   "metadata": {},
   "outputs": [],
   "source": [
    "PNDM4[\"Variant 5 PNDM4\"]=Variant5_name_PNDM4\n",
    "PNDM4[\"Variant 5 position PNDM4\"]=Variant5_position_PNDM4\n",
    "PNDM4[\"Variant 5 position change PNDM4\"]=Variant5_change_PNDM4\n",
    "PNDM4[\"Variant 5 position change description PNDM4\"]=Variant5_description_PNDM4"
   ]
  },
  {
   "cell_type": "code",
   "execution_count": 56,
   "id": "3be4ef21-3c22-4529-963e-df52a3749b5f",
   "metadata": {},
   "outputs": [
    {
     "name": "stdout",
     "output_type": "stream",
     "text": [
      "{'Variant 3 PNDM4': 'VAR_063725', 'Variant 3 position PNDM4': 32, 'Variant 3 position change PNDM4': 'G>R', 'Variant 3 position change description PNDM4': 'Missense mutation, glycine to arginine', 'Variant 4 PNDM4': 'VAR_063726', 'Variant 4 position PNDM4': 32, 'Variant 4 position change PNDM4': 'G>S', 'Variant 4 position change description PNDM4': 'Missense mutation, glycine to serine', 'Variant 5 PNDM4': 'VAR_063727', 'Variant 5 position PNDM4': 35, 'Variant 5 position change PNDM4': 'L>P', 'Variant 5 position change description PNDM4': 'leucine to proline leading to probably deleterious missense mutation', 'Variant 1 PNDM4': 'VAR_063723', 'Variant 1 position PNDM4': 24, 'Variant 1 position change PNDM4': 'A>D', 'Variant 1 position change description PNDM4': 'Missense mutation, alanine to aspartic acid', 'Variant 2 PNDM4': 'VAR_063724', 'Variant 2 position PNDM4': 29, 'Variant 2 position change PNDM4': 'H>D', 'Variant 2 position change description PNDM4': 'Missense mutation, Histidine to aspartic acid'}\n"
     ]
    }
   ],
   "source": [
    "print(PNDM4)"
   ]
  },
  {
   "cell_type": "code",
   "execution_count": 61,
   "id": "2f6fd2a4-8961-4425-b01e-bac0db416fce",
   "metadata": {},
   "outputs": [],
   "source": [
    "\n",
    "# let's merge the two dictionaries together using {**dict1, **dict2}"
   ]
  },
  {
   "cell_type": "code",
   "execution_count": 60,
   "id": "eb9910df-1812-4ece-937e-c9b7106cd5c2",
   "metadata": {},
   "outputs": [
    {
     "name": "stdout",
     "output_type": "stream",
     "text": [
      "{'Variant 1 HPRI': 'VAR_003971', 'Variant 1 position HPRI': 34, 'Variant 1 position change HPRI': 'H>D', 'Variant 1 position change description HPRI': 'A probably deleterious missense mutation--Amino acid change from histidine to aspartic acid', 'Variant 2 HPRI': 'VAR_003972', 'Variant 2 position HPRI': 48, 'Variant 2 position change HPRI': 'F>S', 'Variant 2 position change description HPRI': 'Amino acid change from phenylalanine to serine at position 48', 'Variant 3 HPRI': 'VAR_003974', 'Variant 3 position HPRI': 89, 'Variant 3 position change HPRI': 'R>H', 'Variant 3 position change description HPRI': 'Missense mutation, probably deleterious, from arginine to histidine, position 89', 'Variant 4 HPRI': 'VAR_003975', 'Variant 4 position HPRI': 89, 'Variant 4 position change HPRI': 'R>L', 'Variant 4 position change description HPRI': 'Missense mutation, amino acid change arginine to leucine', 'Variant 3 PNDM4': 'VAR_063725', 'Variant 3 position PNDM4': 32, 'Variant 3 position change PNDM4': 'G>R', 'Variant 3 position change description PNDM4': 'Missense mutation, glycine to arginine', 'Variant 4 PNDM4': 'VAR_063726', 'Variant 4 position PNDM4': 32, 'Variant 4 position change PNDM4': 'G>S', 'Variant 4 position change description PNDM4': 'Missense mutation, glycine to serine', 'Variant 5 PNDM4': 'VAR_063727', 'Variant 5 position PNDM4': 35, 'Variant 5 position change PNDM4': 'L>P', 'Variant 5 position change description PNDM4': 'leucine to proline leading to probably deleterious missense mutation', 'Variant 1 PNDM4': 'VAR_063723', 'Variant 1 position PNDM4': 24, 'Variant 1 position change PNDM4': 'A>D', 'Variant 1 position change description PNDM4': 'Missense mutation, alanine to aspartic acid', 'Variant 2 PNDM4': 'VAR_063724', 'Variant 2 position PNDM4': 29, 'Variant 2 position change PNDM4': 'H>D', 'Variant 2 position change description PNDM4': 'Missense mutation, Histidine to aspartic acid'}\n"
     ]
    }
   ],
   "source": [
    "INS_disease={**HPRI, **PNDM4}\n",
    "print(INS_disease)"
   ]
  },
  {
   "cell_type": "code",
   "execution_count": 63,
   "id": "c97a06fa-6ce4-478e-adec-41c5eaf61f1d",
   "metadata": {},
   "outputs": [
    {
     "data": {
      "text/plain": [
       "'L>P'"
      ]
     },
     "execution_count": 63,
     "metadata": {},
     "output_type": "execute_result"
    }
   ],
   "source": [
    "#search could be applied with the new dict INS_disease \n",
    "INS_disease[\"Variant 5 position change PNDM4\"]"
   ]
  },
  {
   "cell_type": "code",
   "execution_count": 68,
   "id": "508306b6-f57e-4170-a6b0-65017c118add",
   "metadata": {},
   "outputs": [
    {
     "name": "stdout",
     "output_type": "stream",
     "text": [
      "Variant 4 causing PNDM4 position change description: Missense mutation, glycine to serine\n"
     ]
    }
   ],
   "source": [
    "print('Variant 4 causing PNDM4 position change description:', INS_disease[\"Variant 4 position change description PNDM4\"]) "
   ]
  },
  {
   "cell_type": "code",
   "execution_count": 71,
   "id": "0a3cbd2b-f038-47cb-b6ce-e6a5cd5f6dc1",
   "metadata": {},
   "outputs": [
    {
     "name": "stdout",
     "output_type": "stream",
     "text": [
      "['Variant 1 HPRI', 'Variant 1 position HPRI', 'Variant 1 position change HPRI', 'Variant 1 position change description HPRI', 'Variant 2 HPRI', 'Variant 2 position HPRI', 'Variant 2 position change HPRI', 'Variant 2 position change description HPRI', 'Variant 3 HPRI', 'Variant 3 position HPRI', 'Variant 3 position change HPRI', 'Variant 3 position change description HPRI', 'Variant 4 HPRI', 'Variant 4 position HPRI', 'Variant 4 position change HPRI', 'Variant 4 position change description HPRI', 'Variant 3 PNDM4', 'Variant 3 position PNDM4', 'Variant 3 position change PNDM4', 'Variant 3 position change description PNDM4', 'Variant 4 PNDM4', 'Variant 4 position PNDM4', 'Variant 4 position change PNDM4', 'Variant 4 position change description PNDM4', 'Variant 5 PNDM4', 'Variant 5 position PNDM4', 'Variant 5 position change PNDM4', 'Variant 5 position change description PNDM4', 'Variant 1 PNDM4', 'Variant 1 position PNDM4', 'Variant 1 position change PNDM4', 'Variant 1 position change description PNDM4', 'Variant 2 PNDM4', 'Variant 2 position PNDM4', 'Variant 2 position change PNDM4', 'Variant 2 position change description PNDM4']\n"
     ]
    }
   ],
   "source": [
    "#List can be applied to dictionary by using the list() function\n",
    "#print out the keys in the dict. The curly braces would change to square bracket because the square bracket [] is used to create list in python\n",
    "INS_disease_Keys_List=list(INS_disease.keys())\n",
    "print(INS_disease_Keys_List)"
   ]
  },
  {
   "cell_type": "code",
   "execution_count": 84,
   "id": "c700e172-80a8-40b0-b2d1-61c3f064cfe0",
   "metadata": {},
   "outputs": [
    {
     "data": {
      "text/plain": [
       "['Variant 1 HPRI',\n",
       " 'Variant 1 position HPRI',\n",
       " 'Variant 1 position change HPRI',\n",
       " 'Variant 1 position change description HPRI',\n",
       " 'Variant 2 HPRI',\n",
       " 'Variant 2 position HPRI',\n",
       " 'Variant 2 position change HPRI',\n",
       " 'Variant 2 position change description HPRI',\n",
       " 'Variant 3 HPRI',\n",
       " 'Variant 3 position HPRI',\n",
       " 'Variant 3 position change HPRI',\n",
       " 'Variant 3 position change description HPRI',\n",
       " 'Variant 4 HPRI',\n",
       " 'Variant 4 position HPRI',\n",
       " 'Variant 4 position change HPRI',\n",
       " 'Variant 4 position change description HPRI',\n",
       " 'Variant 3 PNDM4',\n",
       " 'Variant 3 position PNDM4',\n",
       " 'Variant 3 position change PNDM4',\n",
       " 'Variant 3 position change description PNDM4',\n",
       " 'Variant 4 PNDM4',\n",
       " 'Variant 4 position PNDM4',\n",
       " 'Variant 4 position change PNDM4',\n",
       " 'Variant 4 position change description PNDM4',\n",
       " 'Variant 5 PNDM4',\n",
       " 'Variant 5 position PNDM4',\n",
       " 'Variant 5 position change PNDM4',\n",
       " 'Variant 5 position change description PNDM4',\n",
       " 'Variant 1 PNDM4',\n",
       " 'Variant 1 position PNDM4',\n",
       " 'Variant 1 position change PNDM4',\n",
       " 'Variant 1 position change description PNDM4',\n",
       " 'Variant 2 PNDM4',\n",
       " 'Variant 2 position PNDM4',\n",
       " 'Variant 2 position change PNDM4',\n",
       " 'Variant 2 position change description PNDM4']"
      ]
     },
     "execution_count": 84,
     "metadata": {},
     "output_type": "execute_result"
    }
   ],
   "source": [
    "INS_disease_Keys_List[0:36]\n",
    "#index o as the first string to index 36, the last "
   ]
  },
  {
   "cell_type": "code",
   "execution_count": 77,
   "id": "55411fe7-9cf3-40c9-aca2-cfd7fc2fe636",
   "metadata": {},
   "outputs": [
    {
     "data": {
      "text/plain": [
       "['Variant 1 HPRI']"
      ]
     },
     "execution_count": 77,
     "metadata": {},
     "output_type": "execute_result"
    }
   ],
   "source": [
    "# negative indexes can be printed also\n",
    "INS_disease_Keys_List[-36]\n",
    "#-36 being first string and -1 the last string"
   ]
  },
  {
   "cell_type": "code",
   "execution_count": 79,
   "id": "61ebfdd2-83ef-4d0c-9d13-5ebfc3fd4dd3",
   "metadata": {},
   "outputs": [
    {
     "data": {
      "text/plain": [
       "'Variant 2 position change description PNDM4'"
      ]
     },
     "execution_count": 79,
     "metadata": {},
     "output_type": "execute_result"
    }
   ],
   "source": [
    "INS_disease_Keys_List[-1]"
   ]
  },
  {
   "cell_type": "code",
   "execution_count": 80,
   "id": "906ab0fc-858f-4b1d-a459-3053705c005b",
   "metadata": {},
   "outputs": [
    {
     "data": {
      "text/plain": [
       "['Variant 1 HPRI',\n",
       " 'Variant 1 position HPRI',\n",
       " 'Variant 1 position change HPRI',\n",
       " 'Variant 1 position change description HPRI',\n",
       " 'Variant 2 HPRI',\n",
       " 'Variant 2 position HPRI',\n",
       " 'Variant 2 position change HPRI',\n",
       " 'Variant 2 position change description HPRI',\n",
       " 'Variant 3 HPRI',\n",
       " 'Variant 3 position HPRI',\n",
       " 'Variant 3 position change HPRI',\n",
       " 'Variant 3 position change description HPRI',\n",
       " 'Variant 4 HPRI',\n",
       " 'Variant 4 position HPRI',\n",
       " 'Variant 4 position change HPRI',\n",
       " 'Variant 4 position change description HPRI',\n",
       " 'Variant 3 PNDM4',\n",
       " 'Variant 3 position PNDM4',\n",
       " 'Variant 3 position change PNDM4',\n",
       " 'Variant 3 position change description PNDM4',\n",
       " 'Variant 4 PNDM4',\n",
       " 'Variant 4 position PNDM4',\n",
       " 'Variant 4 position change PNDM4',\n",
       " 'Variant 4 position change description PNDM4',\n",
       " 'Variant 5 PNDM4',\n",
       " 'Variant 5 position PNDM4',\n",
       " 'Variant 5 position change PNDM4',\n",
       " 'Variant 5 position change description PNDM4',\n",
       " 'Variant 1 PNDM4',\n",
       " 'Variant 1 position PNDM4',\n",
       " 'Variant 1 position change PNDM4',\n",
       " 'Variant 1 position change description PNDM4',\n",
       " 'Variant 2 PNDM4',\n",
       " 'Variant 2 position PNDM4',\n",
       " 'Variant 2 position change PNDM4']"
      ]
     },
     "execution_count": 80,
     "metadata": {},
     "output_type": "execute_result"
    }
   ],
   "source": [
    "INS_disease_Keys_List[-36:-1]"
   ]
  },
  {
   "cell_type": "code",
   "execution_count": 87,
   "id": "aaa1ef4d-9a31-4020-b9a2-47002478c411",
   "metadata": {},
   "outputs": [
    {
     "name": "stdout",
     "output_type": "stream",
     "text": [
      "same element using +ve and -ve indexing: \n",
      " positive index: Variant 2 position change description PNDM4 \n",
      " negative index: Variant 2 position change description PNDM4\n"
     ]
    }
   ],
   "source": [
    "#print out both positive and negative indexing\n",
    "print(\"same element using +ve and -ve indexing:\", \"\\n positive index:\", INS_disease_Keys_List[35], '\\n negative index:', INS_disease_Keys_List[-1]) "
   ]
  },
  {
   "cell_type": "markdown",
   "id": "73f5f6a9-647a-4638-bb67-60f74fd7cdfb",
   "metadata": {},
   "source": [
    "#### Maturity-onset diabetes of the young 10 (MODY10)\n",
    "-----------\n",
    "*An autosomal dominant mode of inheritance diabetes occur in onset in childhood or early adulthood-__usually before 25 years of age__, a primary defect in insulin secretion and frequent insulin-independence at the beginning of the disease.*\n",
    "|VariantID|Position|Change|Desription|\n",
    "|-------|------|-----|-------|\n",
    "|VAR_063721|6|R>C|argine to cysteine, missense mutation|\n",
    "|VAR_063722|6|R>H|arginine to histidine, missense mutation|\n",
    "|VAR_063729|46|R>Q|arginine to glutamine, missense mutation|"
   ]
  },
  {
   "cell_type": "markdown",
   "id": "4eb32ee5-5a6c-4aba-b19d-2a621e5f3f54",
   "metadata": {},
   "source": [
    "###### Tuple Explanation with MODY10"
   ]
  },
  {
   "cell_type": "code",
   "execution_count": 93,
   "id": "69c10f3a-643b-4c7c-92f1-847e60974301",
   "metadata": {},
   "outputs": [
    {
     "name": "stdout",
     "output_type": "stream",
     "text": [
      "('VAR_063721', 6, 6.0, 'R>C', 'missense mutation')\n"
     ]
    }
   ],
   "source": [
    "# Here, a tuple would be created from the table\n",
    "MODY10 = ('VAR_063721', 6, 6.0, 'R>C', 'missense mutation')\n",
    "#This is a simple tuple containing strings, a float and an integer.\n",
    "print(MODY10)"
   ]
  },
  {
   "cell_type": "code",
   "execution_count": 94,
   "id": "e92f0bd5-aae9-4bd2-be51-522656c2ebc8",
   "metadata": {},
   "outputs": [
    {
     "data": {
      "text/plain": [
       "5"
      ]
     },
     "execution_count": 94,
     "metadata": {},
     "output_type": "execute_result"
    }
   ],
   "source": [
    "# To print the length of the tuple, use len() function\n",
    "len(MODY10)\n"
   ]
  },
  {
   "cell_type": "code",
   "execution_count": 96,
   "id": "edffcecc-c915-4c58-ae6c-c60ff6b81a7e",
   "metadata": {},
   "outputs": [
    {
     "name": "stdout",
     "output_type": "stream",
     "text": [
      "VAR_063721\n",
      "6\n",
      "6.0\n",
      "R>C\n",
      "missense mutation\n"
     ]
    }
   ],
   "source": [
    "# print out the elements using indexing\n",
    "print(MODY10[0])\n",
    "print(MODY10[1])\n",
    "print(MODY10[2])\n",
    "print(MODY10[3])\n",
    "print(MODY10[4])"
   ]
  },
  {
   "cell_type": "code",
   "execution_count": 97,
   "id": "1c6826c8-c242-4789-bdcb-3683499724db",
   "metadata": {},
   "outputs": [
    {
     "name": "stdout",
     "output_type": "stream",
     "text": [
      "missense mutation\n",
      "R>C\n",
      "6.0\n",
      "6\n",
      "VAR_063721\n"
     ]
    }
   ],
   "source": [
    "# let's try the above using negative indexing\n",
    "print(MODY10[-1])\n",
    "print(MODY10[-2])\n",
    "print(MODY10[-3])\n",
    "print(MODY10[-4])\n",
    "print(MODY10[-5])"
   ]
  },
  {
   "cell_type": "code",
   "execution_count": 98,
   "id": "06bc7a15-fe9f-4fc4-b200-f17c98a395f7",
   "metadata": {},
   "outputs": [
    {
     "name": "stdout",
     "output_type": "stream",
     "text": [
      "<class 'str'>\n",
      "<class 'int'>\n",
      "<class 'float'>\n",
      "<class 'str'>\n",
      "<class 'str'>\n"
     ]
    }
   ],
   "source": [
    "# To check the types of elements, use type() function\n",
    "print(type(MODY10[0]))\n",
    "print(type(MODY10[1]))\n",
    "print(type(MODY10[2]))\n",
    "print(type(MODY10[3]))\n",
    "print(type(MODY10[4]))\n",
    "# The type of each element in the tuple would be printed.\n"
   ]
  },
  {
   "cell_type": "code",
   "execution_count": 101,
   "id": "8e922ea0-96de-4fca-851d-ed369ba9233d",
   "metadata": {},
   "outputs": [
    {
     "name": "stdout",
     "output_type": "stream",
     "text": [
      "('VAR_063721', 6, 6.0, 'R>C', 'missense mutation', 'arginine to cysteine', 6)\n"
     ]
    }
   ],
   "source": [
    "# Concatenation adds new tuple using '+' sign\n",
    "# Create a new tuple MODY10_new containing MODY10 and a new tuple: (\"arginine to cysteine\", 6)\n",
    "MODY10_new = MODY10 + (\"arginine to cysteine\", 6)\n",
    "print(MODY10_new)"
   ]
  },
  {
   "cell_type": "markdown",
   "id": "c1d64020-e227-46d6-983a-58849724a0bd",
   "metadata": {},
   "source": [
    "###### Nested Tuple"
   ]
  },
  {
   "cell_type": "code",
   "execution_count": 103,
   "id": "92d7374b-df2d-438f-8f09-846f497bff2b",
   "metadata": {},
   "outputs": [
    {
     "name": "stdout",
     "output_type": "stream",
     "text": [
      "('VAR_063721', 6, 46, (6, 6.0), ('R>C', 46), ('missense mutation', ('R>Q', 6), ('R>H', 'VAR_063729')))\n"
     ]
    }
   ],
   "source": [
    "# A nested tuple contains another tuples and complex data)\n",
    "# a nested tuple MODY10_nested would be created from the data in the table above (MODY10)\n",
    "MODY10_nested = (\"VAR_063721\", 6, 46, (6, 6.0), ('R>C', 46), (\"missense mutation\", (\"R>Q\", 6), (\"R>H\", \"VAR_063729\")))\n",
    "print(MODY10_nested)"
   ]
  },
  {
   "cell_type": "code",
   "execution_count": 105,
   "id": "5e75b05b-0040-457a-8f71-76d08eaf33d8",
   "metadata": {},
   "outputs": [
    {
     "name": "stdout",
     "output_type": "stream",
     "text": [
      "6\n"
     ]
    }
   ],
   "source": [
    "# To check the number of elements, use the len()\n",
    "print(len(MODY10_nested))"
   ]
  },
  {
   "cell_type": "code",
   "execution_count": 113,
   "id": "2c6446b6-1d43-49e3-8889-e7283606ec99",
   "metadata": {},
   "outputs": [
    {
     "name": "stdout",
     "output_type": "stream",
     "text": [
      "element 0 of MODY10_nested: VAR_063721\n",
      "element 1 of MODY10_nested: 6\n",
      "element 2 of MODY10_nested: 46\n",
      "element 3 of MODY10_nested: (6, 6.0)\n",
      "element 4 of MODY10_nested: ('R>C', 46)\n",
      "element 5 of MODY10_nested: ('missense mutation', ('R>Q', 6), ('R>H', 'VAR_063729'))\n"
     ]
    }
   ],
   "source": [
    "# print out the elements using indexing. \n",
    "print(\"element 0 of MODY10_nested:\", MODY10_nested[0])\n",
    "print(\"element 1 of MODY10_nested:\", MODY10_nested[1])\n",
    "print(\"element 2 of MODY10_nested:\", MODY10_nested[2])\n",
    "print(\"element 3 of MODY10_nested:\", MODY10_nested[3])\n",
    "print(\"element 4 of MODY10_nested:\", MODY10_nested[4])\n",
    "print(\"element 5 of MODY10_nested:\", MODY10_nested[5])\n",
    "# Index 0 being the first element and 5, the last element in the nested tuple\n",
    "# The nested tuple is complex containing strings, integers,tuples and complex tuple"
   ]
  },
  {
   "cell_type": "code",
   "execution_count": 121,
   "id": "d5347084-633a-4c57-a8f9-2bda29f3935c",
   "metadata": {},
   "outputs": [
    {
     "name": "stdout",
     "output_type": "stream",
     "text": [
      "<class 'str'>\n",
      "<class 'int'>\n",
      "<class 'int'>\n",
      "<class 'tuple'>\n",
      "<class 'tuple'>\n",
      "<class 'tuple'>\n"
     ]
    }
   ],
   "source": [
    "# let's print out the type of the elements\n",
    "\n",
    "print(type(MODY10_nested[0]))\n",
    "print(type(MODY10_nested[1]))\n",
    "print(type(MODY10_nested[2]))\n",
    "print(type(MODY10_nested[3]))\n",
    "print(type(MODY10_nested[4]))\n",
    "print(type(MODY10_nested[5]))\n",
    "\n"
   ]
  },
  {
   "cell_type": "code",
   "execution_count": 126,
   "id": "a8a3b8b2-e249-4d92-9944-f3d3edf5018c",
   "metadata": {},
   "outputs": [
    {
     "name": "stdout",
     "output_type": "stream",
     "text": [
      "element 3, 0 of MODY10_nested: 6\n",
      "element 3, 1 of MODY10_nested: 6.0\n",
      "element 4, 0 of MODY10_nested: R>C\n",
      "element 4, 1 of MODY10_nested: 46\n",
      "element 5, 0 of MODY10_nested: missense mutation\n",
      "element 5, 1 of MODY10_nested: ('R>Q', 6)\n",
      "element 5, 2 of MODY10_nested: ('R>H', 'VAR_063729')\n"
     ]
    }
   ],
   "source": [
    "# The elements in the 'class tuple' of MODY10_nested could be fetched out \n",
    "# index 3 to 5 are tuples. Let's fetch out the elements. \n",
    "print(\"element 3, 0 of MODY10_nested:\", MODY10_nested[3][0])\n",
    "print(\"element 3, 1 of MODY10_nested:\", MODY10_nested[3][1])\n",
    "print(\"element 4, 0 of MODY10_nested:\", MODY10_nested[4][0])\n",
    "print(\"element 4, 1 of MODY10_nested:\", MODY10_nested[4][1])\n",
    "print(\"element 5, 0 of MODY10_nested:\", MODY10_nested[5][0])\n",
    "print(\"element 5, 1 of MODY10_nested:\", MODY10_nested[5][1])\n",
    "print(\"element 5, 2 of MODY10_nested:\", MODY10_nested[5][2])"
   ]
  },
  {
   "cell_type": "code",
   "execution_count": 128,
   "id": "996c8030-f4c6-4103-9e2c-a5b835516413",
   "metadata": {},
   "outputs": [
    {
     "name": "stdout",
     "output_type": "stream",
     "text": [
      "element 5, 1, 0 of MODY10_nested: R>Q\n",
      "element 5, 1, 1 of MODY10_nested: 6\n",
      "element 5, 2, 0 of MODY10_nested: R>H\n",
      "element 5, 2, 1 of MODY10_nested: VAR_063729\n"
     ]
    }
   ],
   "source": [
    "# From the output above, index 5,1 and 5,2 are tuples. So let's fetch out the elements further\n",
    "print(\"element 5, 1, 0 of MODY10_nested:\", MODY10_nested[5][1][0])\n",
    "print(\"element 5, 1, 1 of MODY10_nested:\", MODY10_nested[5][1][1])\n",
    "print(\"element 5, 2, 0 of MODY10_nested:\", MODY10_nested[5][2][0])\n",
    "print(\"element 5, 2, 1 of MODY10_nested:\", MODY10_nested[5][2][1])"
   ]
  },
  {
   "cell_type": "markdown",
   "id": "b8a60693-041b-437d-b815-dff72eb97a39",
   "metadata": {},
   "source": [
    "##### _Other molecular functions of Insulin_:\n",
    "+ carbohydrate derivative binding\n",
    "+ metal ion binding\n",
    "+ small molecule binding\n",
    "+ ~~other molecular function~~\n",
    "\n",
    " _unordered list and cross-through line_ created"
   ]
  },
  {
   "cell_type": "markdown",
   "id": "b82db252-fbc0-4aed-a905-da2533e98416",
   "metadata": {},
   "source": [
    "##### _Other biological process:_\n",
    "1. regulation of protein localization\n",
    "2. regulation of protein secretion\n",
    "3. vasodilation\n",
    "4. wound healing\n",
    "5. positive regulation of peptide hormone secretion\n",
    "\n",
    "*ordered list*\n"
   ]
  },
  {
   "cell_type": "markdown",
   "id": "8cc1d206-e2ce-42de-81c1-4687dc1941c4",
   "metadata": {},
   "source": [
    "## Author\n",
    "\n",
    "**Oluwafemi, AWE**\n",
    "\n",
    "  _Data obtained from Uniprot and molecular structure from PDB_"
   ]
  }
 ],
 "metadata": {
  "kernelspec": {
   "display_name": "Python [conda env:anacondaa3]",
   "language": "python",
   "name": "conda-env-anacondaa3-py"
  },
  "language_info": {
   "codemirror_mode": {
    "name": "ipython",
    "version": 3
   },
   "file_extension": ".py",
   "mimetype": "text/x-python",
   "name": "python",
   "nbconvert_exporter": "python",
   "pygments_lexer": "ipython3",
   "version": "3.12.7"
  }
 },
 "nbformat": 4,
 "nbformat_minor": 5
}
